{
  "nbformat": 4,
  "nbformat_minor": 0,
  "metadata": {
    "colab": {
      "name": "task1.ipynb",
      "provenance": [],
      "collapsed_sections": []
    },
    "kernelspec": {
      "name": "python3",
      "display_name": "Python 3"
    },
    "language_info": {
      "name": "python"
    }
  },
  "cells": [
    {
      "cell_type": "markdown",
      "metadata": {
        "id": "8tS2l0uQ7ygV"
      },
      "source": [
        "**TASK 1**\n",
        "\n",
        "DATA SCIENCE AND BUSINESS ANALYTICS TASKS\n",
        "\n",
        "<h3><u><center> Predict the percentage of the student by number of study hours</center> </u></h3>\n",
        "\n",
        "<h4><font color=\"red\">\n",
        "<u>NAME:</u> GARIMA KUMARI\n",
        "</h4></font>"
      ]
    },
    {
      "cell_type": "markdown",
      "metadata": {
        "id": "yzTC35SWkTAF"
      },
      "source": [
        "##installing required libraries"
      ]
    },
    {
      "cell_type": "code",
      "metadata": {
        "id": "U8rCaBMmSRW4"
      },
      "source": [
        "#importing the libraries  \n",
        "import pandas as pd\n",
        "import numpy as np\n",
        "import matplotlib.pyplot as plt\n"
      ],
      "execution_count": 1,
      "outputs": []
    },
    {
      "cell_type": "markdown",
      "metadata": {
        "id": "ein4OieGkW01"
      },
      "source": [
        "##Loading the data"
      ]
    },
    {
      "cell_type": "code",
      "metadata": {
        "colab": {
          "base_uri": "https://localhost:8080/"
        },
        "id": "9y6rfEgbSopI",
        "outputId": "ff78d812-a6aa-409d-ce38-ea2283e59c5b"
      },
      "source": [
        "#load the given data in python\n",
        "df=pd.read_csv(\"http://bit.ly/w-data\")\n",
        "print(df)"
      ],
      "execution_count": 2,
      "outputs": [
        {
          "output_type": "stream",
          "name": "stdout",
          "text": [
            "    Hours  Scores\n",
            "0     2.5      21\n",
            "1     5.1      47\n",
            "2     3.2      27\n",
            "3     8.5      75\n",
            "4     3.5      30\n",
            "5     1.5      20\n",
            "6     9.2      88\n",
            "7     5.5      60\n",
            "8     8.3      81\n",
            "9     2.7      25\n",
            "10    7.7      85\n",
            "11    5.9      62\n",
            "12    4.5      41\n",
            "13    3.3      42\n",
            "14    1.1      17\n",
            "15    8.9      95\n",
            "16    2.5      30\n",
            "17    1.9      24\n",
            "18    6.1      67\n",
            "19    7.4      69\n",
            "20    2.7      30\n",
            "21    4.8      54\n",
            "22    3.8      35\n",
            "23    6.9      76\n",
            "24    7.8      86\n"
          ]
        }
      ]
    },
    {
      "cell_type": "markdown",
      "metadata": {
        "id": "S1pJslo0kbq_"
      },
      "source": [
        "##Plotting the graph to see if we can apply regression"
      ]
    },
    {
      "cell_type": "code",
      "metadata": {
        "colab": {
          "base_uri": "https://localhost:8080/",
          "height": 279
        },
        "id": "Lhc2YWnOS-T1",
        "outputId": "3f8e9851-7ad1-40bb-e052-a8a80172fbbd"
      },
      "source": [
        "#plotting the  points to visualise and figure out which regression to be used , here we are using linear regression\n",
        "df.plot(x='Hours',y='Scores',style='o')\n",
        "plt.xlabel(\"Hours\")\n",
        "plt.ylabel(\"marks\")\n",
        "plt.show()\n"
      ],
      "execution_count": 3,
      "outputs": [
        {
          "output_type": "display_data",
          "data": {
            "image/png": "[encoded data removed]",
            "text/plain": [
              "<Figure size 432x288 with 1 Axes>"
            ]
          },
          "metadata": {
            "needs_background": "light"
          }
        }
      ]
    },
    {
      "cell_type": "markdown",
      "metadata": {
        "id": "ee3gLxXZkmQr"
      },
      "source": [
        "##Splitting data into testing and training data"
      ]
    },
    {
      "cell_type": "code",
      "metadata": {
        "colab": {
          "base_uri": "https://localhost:8080/"
        },
        "id": "kS72RURxTcs7",
        "outputId": "51f0768c-dd5b-4156-b7fd-1781cf49c228"
      },
      "source": [
        "#training the model based on the hours and percentage given\n",
        "\n",
        "from sklearn.model_selection import train_test_split\n",
        "x=df.iloc[:,:-1].values\n",
        "y=df.iloc[:,1].values\n",
        "\n",
        "x_train,x_test,y_train,y_test=train_test_split(x,y,train_size=0.8,random_state=10)\n",
        "print(f'Training set size:{x_train.shape},{y_train.shape}')\n",
        "print(f'Testing set size:{x_test.shape},{y_test.shape}')\n"
      ],
      "execution_count": 4,
      "outputs": [
        {
          "output_type": "stream",
          "name": "stdout",
          "text": [
            "Training set size:(20, 1),(20,)\n",
            "Testing set size:(5, 1),(5,)\n"
          ]
        }
      ]
    },
    {
      "cell_type": "markdown",
      "metadata": {
        "id": "lEPLU7ytk6e-"
      },
      "source": [
        "##Plotting the regression line "
      ]
    },
    {
      "cell_type": "code",
      "metadata": {
        "colab": {
          "base_uri": "https://localhost:8080/",
          "height": 354
        },
        "id": "LQ6purpMU_Ey",
        "outputId": "da36f6a2-6e3f-4ff9-93ad-32561cde1d8d"
      },
      "source": [
        "#plotting the regression line \n",
        "\n",
        "import seaborn as sns\n",
        "\n",
        "plt.xlabel('hours')\n",
        "plt.ylabel('marks')\n",
        "sns.regplot(x_train,y_train)"
      ],
      "execution_count": 5,
      "outputs": [
        {
          "output_type": "stream",
          "name": "stderr",
          "text": [
            "/usr/local/lib/python3.7/dist-packages/seaborn/_decorators.py:43: FutureWarning: Pass the following variables as keyword args: x, y. From version 0.12, the only valid positional argument will be `data`, and passing other arguments without an explicit keyword will result in an error or misinterpretation.\n",
            "  FutureWarning\n"
          ]
        },
        {
          "output_type": "execute_result",
          "data": {
            "text/plain": [
              "<matplotlib.axes._subplots.AxesSubplot at 0x7f193b0f9c90>"
            ]
          },
          "metadata": {},
          "execution_count": 5
        },
        {
          "output_type": "display_data",
          "data": {
            "image/png": "[encoded data removed]",
            "text/plain": [
              "<Figure size 432x288 with 1 Axes>"
            ]
          },
          "metadata": {
            "needs_background": "light"
          }
        }
      ]
    },
    {
      "cell_type": "markdown",
      "metadata": {
        "id": "j1YVmNfMlKAj"
      },
      "source": [
        "##Training the data "
      ]
    },
    {
      "cell_type": "code",
      "metadata": {
        "colab": {
          "base_uri": "https://localhost:8080/"
        },
        "id": "4ELkzieiVvH_",
        "outputId": "68efb654-4f42-4e75-c36a-5ed0771cc326"
      },
      "source": [
        "from sklearn.linear_model import LinearRegression\n",
        "regressor=LinearRegression()\n",
        "regressor.fit(x_train,y_train)\n",
        "\n",
        "print('training complete')"
      ],
      "execution_count": 6,
      "outputs": [
        {
          "output_type": "stream",
          "name": "stdout",
          "text": [
            "training complete\n"
          ]
        }
      ]
    },
    {
      "cell_type": "markdown",
      "metadata": {
        "id": "XVjwJ7oulD1a"
      },
      "source": [
        "##Equation of the regression line"
      ]
    },
    {
      "cell_type": "code",
      "metadata": {
        "id": "XrFGL6pxWWjS"
      },
      "source": [
        "#  the regression line\n",
        "line = regressor.coef_*x+regressor.intercept_\n"
      ],
      "execution_count": 7,
      "outputs": []
    },
    {
      "cell_type": "code",
      "metadata": {
        "colab": {
          "base_uri": "https://localhost:8080/"
        },
        "id": "o9Udxj0mWoob",
        "outputId": "30ec2dc1-8f69-41e6-d071-1ff7312f67aa"
      },
      "source": [
        "print(x_test) # Testing data - In Hours\n",
        "y_pred = regressor.predict(x_test) # Predicting the scores"
      ],
      "execution_count": 8,
      "outputs": [
        {
          "output_type": "stream",
          "name": "stdout",
          "text": [
            "[[1.5]\n",
            " [5.1]\n",
            " [3.3]\n",
            " [3.2]\n",
            " [4.5]]\n"
          ]
        }
      ]
    },
    {
      "cell_type": "markdown",
      "metadata": {
        "id": "RuMwW2BOlSlB"
      },
      "source": [
        "##Predicting data"
      ]
    },
    {
      "cell_type": "code",
      "metadata": {
        "colab": {
          "base_uri": "https://localhost:8080/"
        },
        "id": "5IkByrYzXAQl",
        "outputId": "f71b3cf9-44d7-42b4-f1f5-da562b8be956"
      },
      "source": [
        "table=pd.DataFrame({'actual':y_test,'predicted':y_pred})\n",
        "print(table)"
      ],
      "execution_count": 9,
      "outputs": [
        {
          "output_type": "stream",
          "name": "stdout",
          "text": [
            "   actual  predicted\n",
            "0      20  17.371423\n",
            "1      47  52.702923\n",
            "2      42  35.037173\n",
            "3      27  34.055743\n",
            "4      41  46.814340\n"
          ]
        }
      ]
    },
    {
      "cell_type": "markdown",
      "metadata": {
        "id": "vCVPxdjNlXFM"
      },
      "source": [
        "##Predicting data according to our input"
      ]
    },
    {
      "cell_type": "code",
      "metadata": {
        "colab": {
          "base_uri": "https://localhost:8080/"
        },
        "id": "OYzCzEgUXUYT",
        "outputId": "1b9807e4-c8f2-4d21-8275-b7000ffa5cd8"
      },
      "source": [
        "#taking the student studies 8hrs\n",
        "\n",
        "hours = [8]\n",
        "own_pred = regressor.predict([hours])\n",
        "print(\"No of Hours = {}\".format(hours))\n",
        "print(\"Predicted Score = {}\".format(own_pred[0]))"
      ],
      "execution_count": 10,
      "outputs": [
        {
          "output_type": "stream",
          "name": "stdout",
          "text": [
            "No of Hours = [8]\n",
            "Predicted Score = 81.16440873346497\n"
          ]
        }
      ]
    },
    {
      "cell_type": "markdown",
      "metadata": {
        "id": "fz5938EYjv3_"
      },
      "source": [
        "<b><center><font color=\"red\" size=\"6\"> SO,OUR PREDICTION ACCORDING TO OUR PROGRAM IS:<br> 8-HRS OF STUDY WILL LEAD TO 81.1%(approx)</font></center>"
      ]
    },
    {
      "cell_type": "markdown",
      "metadata": {
        "id": "2-IFdW4SkLS6"
      },
      "source": [
        "##checking for accuracy of our prediction"
      ]
    },
    {
      "cell_type": "code",
      "metadata": {
        "colab": {
          "base_uri": "https://localhost:8080/"
        },
        "id": "6hljE-3YZdM6",
        "outputId": "0fcbc5fa-9d51-4a6f-a9c5-f0343b4eae55"
      },
      "source": [
        "#finding the accuracy of our prediction\n",
        "\n",
        "from sklearn import metrics  \n",
        "print('Mean Absolute Error:', \n",
        "      metrics.mean_absolute_error(y_test, y_pred))"
      ],
      "execution_count": 11,
      "outputs": [
        {
          "output_type": "stream",
          "name": "stdout",
          "text": [
            "Mean Absolute Error: 5.632881746692994\n"
          ]
        }
      ]
    },
    {
      "cell_type": "code",
      "metadata": {
        "id": "Ymaa5RemfaOv"
      },
      "source": [
        ""
      ],
      "execution_count": null,
      "outputs": []
    }
  ]
}